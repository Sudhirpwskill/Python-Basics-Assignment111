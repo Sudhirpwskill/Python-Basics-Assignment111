{
  "nbformat": 4,
  "nbformat_minor": 0,
  "metadata": {
    "colab": {
      "provenance": []
    },
    "kernelspec": {
      "name": "python3",
      "display_name": "Python 3"
    },
    "language_info": {
      "name": "python"
    }
  },
  "cells": [
    {
      "cell_type": "markdown",
      "source": [
        "Q1 Explain the key features of Python that make it a popular choice for programming.\n",
        "   - Python is easy to Undersatand and write.\n",
        "   - it's having a extensive standared library, And third party packages for various domains\n",
        "   - it has a large and vast community for developers.\n",
        "\n",
        "Q2  Describe the role of predefined keywords in Python and provide examples of how they are used in a program.\n",
        "- Predefined keywords in Python are reserved words with special meaning and can not be used as identifires.\n",
        "- for example - if, elif, For, While, True, False, None etc.\n",
        "\n",
        "\n"
      ],
      "metadata": {
        "id": "FLmmcEyxhFym"
      }
    },
    {
      "cell_type": "code",
      "source": [
        "# example for question 2.\n",
        "for i in range(5):\n",
        "    print(i)\n",
        "\n",
        ""
      ],
      "metadata": {
        "colab": {
          "base_uri": "https://localhost:8080/"
        },
        "id": "6TpyfhCln_nV",
        "outputId": "7a47f9c4-6935-47d5-bf16-810ad9554f5e"
      },
      "execution_count": 2,
      "outputs": [
        {
          "output_type": "stream",
          "name": "stdout",
          "text": [
            "0\n",
            "1\n",
            "2\n",
            "3\n",
            "4\n"
          ]
        }
      ]
    },
    {
      "cell_type": "markdown",
      "source": [
        "Q3 Compare and contrast mutable and immutable objects in Python with examples.\n",
        "- Mutable objects, such as lists dictionaries, can be modified after creation, while immutable objects, such as tuples and strings, cannot.\n",
        "- Mutable types are used when we have to update data.\n",
        "- Immutable objects are used when we want the data to remain constant.\n",
        "\n",
        "Q4 Discuss the different types of operators in Python and provide examples of how they are used.\n",
        "- In Python there are various types of operators, including arithmetic operators(+,-,*,/), comparison operators(==,!=,>,<), logical operators(and,or,not), assignment operators(=,+=,-=,*=,/=) , etc.\n"
      ],
      "metadata": {
        "id": "ApuB5dRjpGkd"
      }
    },
    {
      "cell_type": "code",
      "source": [
        "# Example for question 4\n",
        "x = 5\n",
        "y = 10\n",
        "z = x + y\n",
        "print(z)"
      ],
      "metadata": {
        "colab": {
          "base_uri": "https://localhost:8080/"
        },
        "id": "Im-7BfFXsP_q",
        "outputId": "bb173623-cf40-4277-b7f6-248be281cbf4"
      },
      "execution_count": 3,
      "outputs": [
        {
          "output_type": "stream",
          "name": "stdout",
          "text": [
            "15\n"
          ]
        }
      ]
    },
    {
      "cell_type": "markdown",
      "source": [
        "Q5 Explain the concept of type casting in Python with examples.\n",
        "- Type casting is also known as type conversion which is used to change one data type to anotehr in Python.\n",
        "- It is necessary for performing data manipulation, arithematic operations, and input/output operations in Python Programs.\n",
        "- Some examples offunctions which are built-in in Python for Type casting are int(),str(), dict(), list(), tuple(), float().\n",
        "\n",
        "Q6 How do conditional statements work in Python? Illustrate with examples.\n",
        "- Conditional statements let a Python program decide which block of code to run based on whether the condiion is true or false.\n",
        "\n"
      ],
      "metadata": {
        "id": "cqd7Nuu8sdZz"
      }
    },
    {
      "cell_type": "markdown",
      "source": [],
      "metadata": {
        "id": "CNlV8qsRg9n5"
      }
    },
    {
      "cell_type": "code",
      "source": [
        "# Example for question 6\n",
        "x = 5\n",
        "if x > 0:\n",
        "    print(\"x is positive\")\n",
        "else:\n",
        "    print(\"x is not positive\")"
      ],
      "metadata": {
        "id": "N-CGBuMmvH2D"
      },
      "execution_count": null,
      "outputs": []
    },
    {
      "cell_type": "markdown",
      "source": [
        "Q7 Describe the different types of loops in Python and their use cases with examples.\n",
        "\n",
        "- Python contains two primary types of loops :- for loop and while loop.\n",
        "- While loops are used for executing code until a specified condition becomes false, whereas for loops are used iteration over a sequence of elements."
      ],
      "metadata": {
        "id": "JH_Zvql6vW6j"
      }
    },
    {
      "cell_type": "code",
      "source": [
        "# Example for Question 7 (For \"For Loop\")\n",
        "for i in range(5):\n",
        "    print(i)\n",
        "\n",
        "# Example for Question 7 (For \"While Loop\")\n",
        "x = 0\n",
        "while x < 5:\n",
        "    print(x)\n",
        "    x += 1"
      ],
      "metadata": {
        "colab": {
          "base_uri": "https://localhost:8080/"
        },
        "id": "9Uh8Ygvmwmdk",
        "outputId": "055040f9-bebf-4c5c-f471-c7c4308413e8"
      },
      "execution_count": 4,
      "outputs": [
        {
          "output_type": "stream",
          "name": "stdout",
          "text": [
            "0\n",
            "1\n",
            "2\n",
            "3\n",
            "4\n",
            "0\n",
            "1\n",
            "2\n",
            "3\n",
            "4\n"
          ]
        }
      ]
    },
    {
      "cell_type": "markdown",
      "source": [],
      "metadata": {
        "id": "qQd0qGheg7Nk"
      }
    }
  ]
}